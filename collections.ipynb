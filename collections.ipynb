{
 "cells": [
  {
   "cell_type": "code",
   "execution_count": null,
   "id": "initial_id",
   "metadata": {
    "collapsed": true
   },
   "outputs": [],
   "source": [
    "#DefaultDict Tutorial\n",
    "from collections import defaultdict\n",
    "\n",
    "n, m = map(int, input().split())\n",
    "\n",
    "d1 = defaultdict(list)\n",
    "\n",
    "for i in range(1, n + 1):\n",
    "    a = input()\n",
    "    d1[a].append(i)\n",
    "\n",
    "for i in range(m):\n",
    "    b = input()\n",
    "    if b in d1:\n",
    "        print(\" \".join(map(str, d1[b])))\n",
    "    else:\n",
    "        print(-1)"
   ]
  },
  {
   "metadata": {},
   "cell_type": "code",
   "outputs": [],
   "execution_count": null,
   "source": [
    "#Collections.namedtuple()\n",
    "from collections import namedtuple\n",
    "\n",
    "N = int(input())\n",
    "string = input().split()\n",
    "Table = namedtuple('Table', string)\n",
    "res = 0\n",
    "for i in range(N):\n",
    "    arr = input().split()\n",
    "    S = Table(arr[0], arr[1], arr[2], arr[3])\n",
    "    res += int(S.MARKS)\n",
    "\n",
    "print(round(res / N, 2))"
   ],
   "id": "dedb7db054635116"
  },
  {
   "metadata": {},
   "cell_type": "code",
   "outputs": [],
   "execution_count": null,
   "source": [
    "#collections.Counter()\n",
    "from collections import Counter\n",
    "\n",
    "X = int(input())\n",
    "arr = list(map(int, input().split()))\n",
    "arr_counter = Counter(arr)\n",
    "N = int(input())\n",
    "s = 0\n",
    "for i in range(N):\n",
    "    a, b = map(int, input().split())\n",
    "    if a in arr_counter and arr_counter[a] >= 1:\n",
    "        arr_counter[a] -= 1\n",
    "        s += b\n",
    "print(s)"
   ],
   "id": "7c147c058a47f2bb"
  }
 ],
 "metadata": {
  "kernelspec": {
   "display_name": "Python 3",
   "language": "python",
   "name": "python3"
  },
  "language_info": {
   "codemirror_mode": {
    "name": "ipython",
    "version": 2
   },
   "file_extension": ".py",
   "mimetype": "text/x-python",
   "name": "python",
   "nbconvert_exporter": "python",
   "pygments_lexer": "ipython2",
   "version": "2.7.6"
  }
 },
 "nbformat": 4,
 "nbformat_minor": 5
}

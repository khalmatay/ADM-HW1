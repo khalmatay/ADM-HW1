{
 "cells": [
  {
   "metadata": {},
   "cell_type": "markdown",
   "source": "Regex and Parsing",
   "id": "337d9b05d9640f5b"
  },
  {
   "cell_type": "code",
   "execution_count": null,
   "id": "initial_id",
   "metadata": {
    "collapsed": true
   },
   "outputs": [],
   "source": [
    "# Detect Floating Point Number\n",
    "import re\n",
    "\n",
    "t = int(input())\n",
    "for i in range(t):\n",
    "    n = input()\n",
    "    res = re.match(r'^[+-]?(\\d*\\.\\d+)$', n) is not None\n",
    "    print(res)\n"
   ]
  },
  {
   "metadata": {},
   "cell_type": "code",
   "outputs": [],
   "execution_count": null,
   "source": [
    "#Re.split()\n",
    "\n",
    "regex_pattern = r\"[,.]\"  # Do not delete 'r'.\n",
    "\n",
    "import re\n",
    "\n",
    "print(\"\\n\".join(re.split(regex_pattern, input())))"
   ],
   "id": "b72e3d68849af560"
  },
  {
   "metadata": {},
   "cell_type": "code",
   "outputs": [],
   "execution_count": null,
   "source": [
    "#Group(), Groups() & Groupdict()\n",
    "import re\n",
    "\n",
    "s = input()\n",
    "m = re.search(r\"([a-zA-Z0-9])\\1\", s)\n",
    "if m:\n",
    "    print(m.group(1))\n",
    "else:\n",
    "    print(-1)\n"
   ],
   "id": "7ea689d3755d0d8d"
  },
  {
   "metadata": {},
   "cell_type": "code",
   "outputs": [],
   "execution_count": null,
   "source": "",
   "id": "615cf5fae91e91fc"
  }
 ],
 "metadata": {
  "kernelspec": {
   "display_name": "Python 3",
   "language": "python",
   "name": "python3"
  },
  "language_info": {
   "codemirror_mode": {
    "name": "ipython",
    "version": 2
   },
   "file_extension": ".py",
   "mimetype": "text/x-python",
   "name": "python",
   "nbconvert_exporter": "python",
   "pygments_lexer": "ipython2",
   "version": "2.7.6"
  }
 },
 "nbformat": 4,
 "nbformat_minor": 5
}

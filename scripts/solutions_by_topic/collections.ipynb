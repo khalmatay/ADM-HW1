{
 "cells": [
  {
   "cell_type": "code",
   "execution_count": null,
   "id": "initial_id",
   "metadata": {
    "collapsed": true
   },
   "outputs": [],
   "source": [
    "#DefaultDict Tutorial\n",
    "from collections import defaultdict\n",
    "\n",
    "n, m = map(int, input().split())\n",
    "\n",
    "d1 = defaultdict(list)\n",
    "\n",
    "for i in range(1, n + 1):\n",
    "    a = input()\n",
    "    d1[a].append(i)\n",
    "\n",
    "for i in range(m):\n",
    "    b = input()\n",
    "    if b in d1:\n",
    "        print(\" \".join(map(str, d1[b])))\n",
    "    else:\n",
    "        print(-1)"
   ]
  },
  {
   "metadata": {},
   "cell_type": "code",
   "outputs": [],
   "execution_count": null,
   "source": [
    "#Collections.namedtuple()\n",
    "from collections import namedtuple\n",
    "\n",
    "N = int(input())\n",
    "string = input().split()\n",
    "Table = namedtuple('Table', string)\n",
    "res = 0\n",
    "for i in range(N):\n",
    "    arr = input().split()\n",
    "    S = Table(arr[0], arr[1], arr[2], arr[3])\n",
    "    res += int(S.MARKS)\n",
    "\n",
    "print(round(res / N, 2))"
   ],
   "id": "dedb7db054635116"
  },
  {
   "metadata": {},
   "cell_type": "code",
   "outputs": [],
   "execution_count": null,
   "source": [
    "#collections.Counter()\n",
    "from collections import Counter\n",
    "\n",
    "X = int(input())\n",
    "arr = list(map(int, input().split()))\n",
    "arr_counter = Counter(arr)\n",
    "N = int(input())\n",
    "s = 0\n",
    "for i in range(N):\n",
    "    a, b = map(int, input().split())\n",
    "    if a in arr_counter and arr_counter[a] >= 1:\n",
    "        arr_counter[a] -= 1\n",
    "        s += b\n",
    "print(s)"
   ],
   "id": "7c147c058a47f2bb"
  },
  {
   "metadata": {},
   "cell_type": "code",
   "outputs": [],
   "execution_count": null,
   "source": [
    "#Collections.OrderedDict()\n",
    "from collections import OrderedDict\n",
    "\n",
    "N = int(input())\n",
    "d = OrderedDict()\n",
    "for i in range(N):\n",
    "    arr = input().split()\n",
    "    item_name = \" \".join(arr[:-1])\n",
    "    net_price = int(arr[-1])\n",
    "    if item_name in d:\n",
    "        d[item_name] += net_price\n",
    "    else:\n",
    "        d[item_name] = net_price\n",
    "\n",
    "for key in (d):\n",
    "    print(key, d[key])\n"
   ],
   "id": "10b294bc9d73d34a"
  },
  {
   "metadata": {},
   "cell_type": "code",
   "outputs": [],
   "execution_count": null,
   "source": [
    "#Collections.deque()\n",
    "from collections import deque\n",
    "\n",
    "d = deque()\n",
    "N = int(input())\n",
    "for i in range(N):\n",
    "    arr = input().split()\n",
    "\n",
    "    if arr[0] == \"append\":\n",
    "        d.append(int(arr[-1]))\n",
    "    elif arr[0] == \"appendleft\":\n",
    "        d.appendleft(int(arr[-1]))\n",
    "    elif arr[0] == \"pop\":\n",
    "        d.pop()\n",
    "    elif arr[0] == \"popleft\":\n",
    "        d.popleft()\n",
    "\n",
    "print(\" \".join(map(str, d)))"
   ],
   "id": "a4931a7cc222acbc"
  },
  {
   "metadata": {},
   "cell_type": "code",
   "outputs": [],
   "execution_count": null,
   "source": [
    "#Word Order\n",
    "d = {}\n",
    "n = int(input())\n",
    "\n",
    "for i in range(n):\n",
    "    string = input()\n",
    "    if string in d:\n",
    "        d[string] += 1\n",
    "    else:\n",
    "        d[string] = 1\n",
    "\n",
    "print(len(set(d)))\n",
    "print(\" \".join(map(str, d.values())))"
   ],
   "id": "428393beff69b5ff"
  },
  {
   "metadata": {},
   "cell_type": "code",
   "outputs": [],
   "execution_count": null,
   "source": [
    "#Company Logo\n",
    "def sort_rev(arr):\n",
    "    return arr[0][0], arr[0][1]\n",
    "\n",
    "\n",
    "if __name__ == '__main__':\n",
    "    s = input()\n",
    "    d = {}\n",
    "    for char in s:\n",
    "        if char in d:\n",
    "            d[char] += 1\n",
    "        else:\n",
    "            d[char] = 1\n",
    "    d_arr = list(d.items())\n",
    "    max_el = list(d.items())[0][0]\n",
    "    d_arr.sort(key=lambda x: (-x[1], x[0]))\n",
    "    for i in range(3):\n",
    "        print(\" \".join(map(str, d_arr[i])))"
   ],
   "id": "85f21c11f14f211c"
  },
  {
   "metadata": {},
   "cell_type": "code",
   "outputs": [],
   "execution_count": null,
   "source": [
    "#Piling Up!\n",
    "from collections import deque\n",
    "\n",
    "T = int(input())\n",
    "\n",
    "\n",
    "def check_sort(el):\n",
    "    for i in range(n - 1):\n",
    "        if el[i] < el[i + 1]:\n",
    "            return \"No\"\n",
    "    return 'Yes'\n",
    "\n",
    "\n",
    "for i in range(T):\n",
    "    s = []\n",
    "    n = int(input())\n",
    "    arr = list(map(int, input().split()))\n",
    "    d = deque(arr)\n",
    "    while len(d) >= 1:\n",
    "        if d[0] >= d[-1]:\n",
    "            s.append(d[0])\n",
    "            d.popleft()\n",
    "        else:\n",
    "            s.append(d[-1])\n",
    "            d.pop()\n",
    "    print(check_sort(s))"
   ],
   "id": "198c09ad03e705ac"
  }
 ],
 "metadata": {
  "kernelspec": {
   "display_name": "Python 3",
   "language": "python",
   "name": "python3"
  },
  "language_info": {
   "codemirror_mode": {
    "name": "ipython",
    "version": 2
   },
   "file_extension": ".py",
   "mimetype": "text/x-python",
   "name": "python",
   "nbconvert_exporter": "python",
   "pygments_lexer": "ipython2",
   "version": "2.7.6"
  }
 },
 "nbformat": 4,
 "nbformat_minor": 5
}

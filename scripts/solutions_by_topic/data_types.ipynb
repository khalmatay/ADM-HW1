{
 "cells": [
  {
   "cell_type": "code",
   "id": "initial_id",
   "metadata": {
    "collapsed": true,
    "ExecuteTime": {
     "end_time": "2024-09-24T16:26:05.215653Z",
     "start_time": "2024-09-24T16:25:52.189533Z"
    }
   },
   "source": [
    "#Find the Runner-Up Score!\n",
    "if __name__ == '__main__':\n",
    "    n = int(input())\n",
    "    arr = map(int, input().split())\n",
    "    arr = sorted(list(arr))\n",
    "    max = arr[-1]\n",
    "    i = n - 1\n",
    "    while arr[i] == max:\n",
    "        i -= 1\n",
    "    print(arr[i])"
   ],
   "outputs": [
    {
     "name": "stdout",
     "output_type": "stream",
     "text": [
      "5\n"
     ]
    }
   ],
   "execution_count": 3
  },
  {
   "metadata": {},
   "cell_type": "code",
   "source": [
    "#Nested Lists\n",
    "if __name__ == '__main__':\n",
    "    def sorted_func(e):\n",
    "        return [e[1], e[0]]\n",
    "\n",
    "\n",
    "    nested_list = []\n",
    "    for _ in range(int(input())):\n",
    "        name = input()\n",
    "        score = float(input())\n",
    "        nested_list += [[name, score]]\n",
    "\n",
    "    nested_list.sort(key=sorted_func)\n",
    "\n",
    "    scores = []\n",
    "    for i in range(len(nested_list)):\n",
    "        scores.append(nested_list[i][1])\n",
    "    second_min = list(set(scores))[1]\n",
    "\n",
    "    for i in range(len(nested_list)):\n",
    "        if nested_list[i][1] == second_min:\n",
    "            print(nested_list[i][0])"
   ],
   "id": "26ba9d64d2baae39",
   "outputs": [],
   "execution_count": null
  },
  {
   "metadata": {},
   "cell_type": "code",
   "outputs": [],
   "execution_count": null,
   "source": [
    "#Finding the percentage\n",
    "if __name__ == '__main__':\n",
    "    n = int(input())\n",
    "    student_marks = {}\n",
    "    for _ in range(n):\n",
    "        name, *line = input().split()\n",
    "        scores = list(map(float, line))\n",
    "        student_marks[name] = scores\n",
    "    query_name = input()\n",
    "\n",
    "    student_average = {}\n",
    "    for key in list(student_marks.keys()):\n",
    "        student_average[key] = sum(student_marks[key]) / len(student_marks[key])\n",
    "    print(\"{:.2f}\".format(student_average[query_name]))"
   ],
   "id": "56eae06d0d784c6f"
  },
  {
   "metadata": {},
   "cell_type": "code",
   "outputs": [],
   "execution_count": null,
   "source": [
    "#Lists\n",
    "if __name__ == '__main__':\n",
    "    N = int(input())\n",
    "    arr = []\n",
    "    for i in range(N):\n",
    "        a = input().split(\" \")\n",
    "        if a[0] == \"insert\":\n",
    "            i = int(a[1])\n",
    "            e = int(a[2])\n",
    "            arr.insert(i, e)\n",
    "        if a[0] == \"append\":\n",
    "            e = int(a[1])\n",
    "            arr.append(e)\n",
    "        if a[0] == \"print\":\n",
    "            print(arr)\n",
    "        if a[0] == \"sort\":\n",
    "            arr.sort()\n",
    "        if a[0] == \"remove\":\n",
    "            arr.remove(int(a[1]))\n",
    "        if a[0] == \"pop\":\n",
    "            arr.pop()\n",
    "        if a[0] == \"reverse\":\n",
    "            arr.reverse()\n"
   ],
   "id": "9742e99b3b46e975"
  },
  {
   "metadata": {},
   "cell_type": "code",
   "outputs": [],
   "execution_count": null,
   "source": [
    "#Tuples\n",
    "if __name__ == '__main__':\n",
    "    n = int(input())\n",
    "    integer_list = map(int, input().split())\n",
    "    print(hash(tuple(integer_list)))"
   ],
   "id": "2d0e1f6d92e05e3d"
  },
  {
   "metadata": {},
   "cell_type": "code",
   "source": [
    "#List Comprehensions\n",
    "if __name__ == '__main__':\n",
    "    x = int(input())\n",
    "    y = int(input())\n",
    "    z = int(input())\n",
    "    n = int(input())\n",
    "\n",
    "    arr = [[i, j, k] for i in range(x + 1) for j in range(y + 1) for k in range(z + 1) if i + j + k != n]\n",
    "    print(arr)\n",
    "\n",
    "    # for i in range(x + 1):\n",
    "    #     for j in range(y + 1):\n",
    "    #         for k in range(z + 1):\n",
    "    #             if i + j + k != n:\n",
    "    #                 arr.append([i,j,k])\n",
    "    # print(arr)\n"
   ],
   "id": "41efc4c48f0d2449",
   "outputs": [],
   "execution_count": null
  }
 ],
 "metadata": {
  "kernelspec": {
   "display_name": "Python 3",
   "language": "python",
   "name": "python3"
  },
  "language_info": {
   "codemirror_mode": {
    "name": "ipython",
    "version": 2
   },
   "file_extension": ".py",
   "mimetype": "text/x-python",
   "name": "python",
   "nbconvert_exporter": "python",
   "pygments_lexer": "ipython2",
   "version": "2.7.6"
  }
 },
 "nbformat": 4,
 "nbformat_minor": 5
}

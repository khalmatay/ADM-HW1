{
 "cells": [
  {
   "metadata": {},
   "cell_type": "markdown",
   "source": [
    "Functionals\n",
    "\n"
   ],
   "id": "f2615ec97c72bf59"
  },
  {
   "metadata": {},
   "cell_type": "code",
   "outputs": [],
   "execution_count": null,
   "source": [
    "#Map and Lambda Function\n",
    "cube = lambda x: x ** 3  # complete the lambda function \n",
    "\n",
    "\n",
    "def fibonacci(n):\n",
    "    fib_arr = [0, 1]\n",
    "    if n == 0:\n",
    "        return []\n",
    "    elif n == 1:\n",
    "        return [0]\n",
    "    else:\n",
    "        for i in range(n - 2):\n",
    "            fib_arr.append(fib_arr[i] + fib_arr[i + 1])\n",
    "    return fib_arr\n",
    "\n",
    "\n",
    "if __name__ == '__main__':\n",
    "    n = int(input())\n",
    "    print(list(map(cube, fibonacci(n))))"
   ],
   "id": "bd66902bccfc1a52"
  }
 ],
 "metadata": {
  "kernelspec": {
   "display_name": "Python 3",
   "language": "python",
   "name": "python3"
  },
  "language_info": {
   "codemirror_mode": {
    "name": "ipython",
    "version": 2
   },
   "file_extension": ".py",
   "mimetype": "text/x-python",
   "name": "python",
   "nbconvert_exporter": "python",
   "pygments_lexer": "ipython2",
   "version": "2.7.6"
  }
 },
 "nbformat": 4,
 "nbformat_minor": 5
}

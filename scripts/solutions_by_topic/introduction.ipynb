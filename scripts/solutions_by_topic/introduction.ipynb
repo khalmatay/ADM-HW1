{
 "cells": [
  {
   "cell_type": "code",
   "id": "initial_id",
   "metadata": {
    "collapsed": true
   },
   "source": [
    "#Say \"Hello, World!\" With Python\n",
    "if __name__ == '__main__':\n",
    "    print(\"Hello, World!\")\n"
   ],
   "outputs": [],
   "execution_count": null
  },
  {
   "metadata": {},
   "cell_type": "code",
   "source": [
    "#Python If-Else\n",
    "#!/bin/python3\n",
    "\n",
    "if __name__ == '__main__':\n",
    "    n = int(input().strip())\n",
    "\n",
    "    if n % 2 != 0:\n",
    "        print('Weird')\n",
    "    else:\n",
    "        if n >= 2 and n <= 5:\n",
    "            print('Not Weird')\n",
    "        if n >= 6 and n <= 20:\n",
    "            print('Weird')\n",
    "        if n > 20:\n",
    "            print('Not Weird')\n"
   ],
   "id": "a88f3c3813c53fa3",
   "outputs": [],
   "execution_count": null
  },
  {
   "metadata": {},
   "cell_type": "code",
   "source": [
    "#Arithmetic Operators\n",
    "if __name__ == '__main__':\n",
    "    a = int(input())\n",
    "    b = int(input())\n",
    "    print(a + b)\n",
    "    print(a - b)\n",
    "    print(a * b)\n"
   ],
   "id": "d6c4030e9e25e204",
   "outputs": [],
   "execution_count": null
  },
  {
   "metadata": {},
   "cell_type": "code",
   "source": [
    "#Division\n",
    "if __name__ == '__main__':\n",
    "a = int(input())\n",
    "b = int(input())\n",
    "print(a // b)\n",
    "print(a / b)\n"
   ],
   "id": "ed6b0d9ea6f18299",
   "outputs": [],
   "execution_count": null
  },
  {
   "metadata": {},
   "cell_type": "code",
   "source": [
    " #Loops\n",
    "if __name__ == '__main__':\n",
    "    n = int(input())\n",
    "    for i in range(0, n):\n",
    "        print(i ** 2)\n"
   ],
   "id": "14d34d28a66bf91a",
   "outputs": [],
   "execution_count": null
  },
  {
   "metadata": {},
   "cell_type": "code",
   "source": [
    "#Write a function\n",
    "def is_leap(year):\n",
    "    leap = False\n",
    "\n",
    "    # Write your logic here\n",
    "\n",
    "    if year % 4 == 0 and year % 100 != 0 or year % 400 == 0:\n",
    "        leap = True\n",
    "\n",
    "    return leap\n",
    "\n",
    "\n",
    "year = int(input())\n",
    "print(is_leap(year))"
   ],
   "id": "76340dc7d7a765b4",
   "outputs": [],
   "execution_count": null
  },
  {
   "metadata": {},
   "cell_type": "code",
   "source": [
    "#Print Function\n",
    "if __name__ == '__main__':\n",
    "    n = int(input())\n",
    "    string = \"\"\n",
    "    for i in range(1, n + 1):\n",
    "        string += str(i)\n",
    "    print(string)\n"
   ],
   "id": "76cf498f8de6cfb6",
   "outputs": [],
   "execution_count": null
  }
 ],
 "metadata": {
  "kernelspec": {
   "display_name": "Python 3",
   "language": "python",
   "name": "python3"
  },
  "language_info": {
   "codemirror_mode": {
    "name": "ipython",
    "version": 2
   },
   "file_extension": ".py",
   "mimetype": "text/x-python",
   "name": "python",
   "nbconvert_exporter": "python",
   "pygments_lexer": "ipython2",
   "version": "2.7.6"
  }
 },
 "nbformat": 4,
 "nbformat_minor": 5
}

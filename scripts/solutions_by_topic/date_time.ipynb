{
 "cells": [
  {
   "metadata": {},
   "cell_type": "markdown",
   "source": "Date-Time",
   "id": "294bbe0db6ff50da"
  },
  {
   "metadata": {},
   "cell_type": "code",
   "outputs": [],
   "execution_count": null,
   "source": [
    "#Calendar Module\n",
    "import calendar\n",
    "\n",
    "days_week = [\"Monday\", \"Tuesday\", \"Wednesday\", \"Thursday\", \"Friday\", \"Saturday\", \"Sunday\"]\n",
    "days_week = list(map(lambda x: x.upper(), days_week))\n",
    "m, d, y = map(int, input().split())\n",
    "cal = calendar.TextCalendar()\n",
    "print(days_week[calendar.weekday(y, m, d)])"
   ],
   "id": "c4e02e7ebe4af241"
  },
  {
   "metadata": {},
   "cell_type": "code",
   "outputs": [],
   "execution_count": null,
   "source": [
    "#Time Delta\n",
    "\n",
    "import os\n",
    "import datetime\n",
    "\n",
    "\n",
    "def time_delta(t1, t2):\n",
    "    t1 = datetime.datetime.strptime(t1, \"%a %d %b %Y %H:%M:%S %z\")\n",
    "    t2 = datetime.datetime.strptime(t2, \"%a %d %b %Y %H:%M:%S %z\")\n",
    "    return str(int(abs(t1 - t2).total_seconds()))\n",
    "\n",
    "\n",
    "if __name__ == '__main__':\n",
    "    fptr = open(os.environ['OUTPUT_PATH'], 'w')\n",
    "\n",
    "    t = int(input())\n",
    "\n",
    "    for t_itr in range(t):\n",
    "        t1 = input()\n",
    "\n",
    "        t2 = input()\n",
    "\n",
    "        delta = time_delta(t1, t2)\n",
    "\n",
    "        fptr.write(delta + '\\n')\n",
    "\n",
    "    fptr.close()\n"
   ],
   "id": "bad26fc3fc232e7f"
  }
 ],
 "metadata": {
  "kernelspec": {
   "display_name": "Python 3",
   "language": "python",
   "name": "python3"
  },
  "language_info": {
   "codemirror_mode": {
    "name": "ipython",
    "version": 2
   },
   "file_extension": ".py",
   "mimetype": "text/x-python",
   "name": "python",
   "nbconvert_exporter": "python",
   "pygments_lexer": "ipython2",
   "version": "2.7.6"
  }
 },
 "nbformat": 4,
 "nbformat_minor": 5
}

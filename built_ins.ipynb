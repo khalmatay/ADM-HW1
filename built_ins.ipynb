{
 "cells": [
  {
   "cell_type": "code",
   "id": "initial_id",
   "metadata": {
    "collapsed": true
   },
   "source": [
    "#zipped\n",
    "n, x = map(int, input().split())\n",
    "result = []\n",
    "\n",
    "for i in range(x):\n",
    "    row = list(map(float, input().split()))\n",
    "    result.append(row)\n",
    "\n",
    "for i in list(zip(*result)):\n",
    "    print(sum(i) / float(x))"
   ],
   "outputs": [],
   "execution_count": null
  },
  {
   "metadata": {},
   "cell_type": "code",
   "outputs": [],
   "execution_count": null,
   "source": [
    "#Athlete Sort\n",
    "def sort_k(arr, k):\n",
    "    return arr[k]\n",
    "\n",
    "\n",
    "if __name__ == '__main__':\n",
    "    nm = input().split()\n",
    "\n",
    "n = int(nm[0])\n",
    "m = int(nm[1])\n",
    "arr = []\n",
    "\n",
    "for _ in range(n):\n",
    "    arr.append(list(map(int, input().rstrip().split())))\n",
    "\n",
    "k = int(input())\n",
    "\n",
    "arr.sort(key=lambda x: sort_k(x, k))\n",
    "for i in range(n):\n",
    "    print(\" \".join(map(str, arr[i])))"
   ],
   "id": "605fdcdaf4aea2a4"
  },
  {
   "metadata": {},
   "cell_type": "code",
   "outputs": [],
   "execution_count": null,
   "source": [
    "#ginortS\n",
    "\n",
    "string = input()\n",
    "arr = [e for e in string]\n",
    "arr_lower = []\n",
    "arr_upper = []\n",
    "arr_even = []\n",
    "arr_odd = []\n",
    "for i in range(len(arr)):\n",
    "\n",
    "    if arr[i].islower():\n",
    "        arr_lower.append(arr[i])\n",
    "    elif arr[i].isupper():\n",
    "        arr_upper.append(arr[i])\n",
    "    elif arr[i].isdigit() and int(arr[i]) % 2 != 0:\n",
    "        arr_even.append(arr[i])\n",
    "    else:\n",
    "        arr_odd.append(arr[i])\n",
    "print(\"\".join(map(str, sorted(arr_lower) + sorted(arr_upper) + sorted(arr_even) + sorted(arr_odd))))"
   ],
   "id": "3d4667cae101b73d"
  }
 ],
 "metadata": {
  "kernelspec": {
   "display_name": "Python 3",
   "language": "python",
   "name": "python3"
  },
  "language_info": {
   "codemirror_mode": {
    "name": "ipython",
    "version": 2
   },
   "file_extension": ".py",
   "mimetype": "text/x-python",
   "name": "python",
   "nbconvert_exporter": "python",
   "pygments_lexer": "ipython2",
   "version": "2.7.6"
  }
 },
 "nbformat": 4,
 "nbformat_minor": 5
}

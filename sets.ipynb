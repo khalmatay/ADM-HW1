{
 "cells": [
  {
   "cell_type": "code",
   "execution_count": null,
   "id": "initial_id",
   "metadata": {
    "collapsed": true
   },
   "outputs": [],
   "source": [
    "# Introduction to Sets\n",
    "def average(array):\n",
    "    return round(sum(set(array)) / len(set(array)), 3)\n",
    "\n",
    "\n",
    "if __name__ == '__main__':\n",
    "    n = int(input())\n",
    "    arr = list(map(int, input().split()))\n",
    "    result = average(arr)\n",
    "    print(result)"
   ]
  },
  {
   "metadata": {},
   "cell_type": "code",
   "outputs": [],
   "execution_count": null,
   "source": [
    "#No Idea!\n",
    "n, m = map(int, input().split())\n",
    "arr = list(map(int, input().split()))\n",
    "A = set(map(int, input().split()))\n",
    "B = set(map(int, input().split()))\n",
    "\n",
    "count = 0\n",
    "for el in (arr):\n",
    "    if el in A:\n",
    "        count += 1\n",
    "    if el in B:\n",
    "        count -= 1\n",
    "print(count)\n"
   ],
   "id": "42d5c8e0db69fa97"
  },
  {
   "metadata": {},
   "cell_type": "code",
   "outputs": [],
   "execution_count": null,
   "source": [
    "#Symmetric Difference\n",
    "M = int(input())\n",
    "a = set(map(int, input().split()))\n",
    "N = int(input())\n",
    "b = set(map(int, input().split()))\n",
    "s = sorted(list(a.difference(b)) + list(b.difference(a)))\n",
    "\n",
    "for el in s:\n",
    "    print(el)\n"
   ],
   "id": "f1d11b46ee5c8e3d"
  },
  {
   "metadata": {},
   "cell_type": "code",
   "outputs": [],
   "execution_count": null,
   "source": [
    "#Set .add()\n",
    "N = int(input())\n",
    "stamps = [input() for e in range(N)]\n",
    "print(len(set(stamps)))"
   ],
   "id": "b06d64bc662b4e01"
  },
  {
   "metadata": {},
   "cell_type": "code",
   "outputs": [],
   "execution_count": null,
   "source": [
    "#Set .discard(), .remove() & .pop()\n",
    "n = int(input())\n",
    "s = set(map(int, input().split(\" \")))\n",
    "N = int(input())\n",
    "for i in range(N):\n",
    "    a = input().split()\n",
    "    if a[0] == \"remove\" or a[0] == \"discard\":\n",
    "        s.discard(int(a[1]))\n",
    "    elif a[0] == \"pop\" and len(s) > 0:\n",
    "        s.pop()\n",
    "print(sum(s))\n"
   ],
   "id": "5110eb1edb2548bd"
  },
  {
   "metadata": {},
   "cell_type": "code",
   "outputs": [],
   "execution_count": null,
   "source": [
    "#Set .union() Operation`\n",
    "n = int(input())\n",
    "a = set(map(int, input().split()))\n",
    "b = int(input())\n",
    "d = set(map(int, input().split()))\n",
    "print(len(a.union(d)))\n"
   ],
   "id": "b30a40ef4ffad60a"
  },
  {
   "metadata": {},
   "cell_type": "code",
   "outputs": [],
   "execution_count": null,
   "source": [
    "#Set .intersection() Operation\n",
    "n = int(input())\n",
    "arr1 = set(map(int, input().split()))\n",
    "b = int(input())\n",
    "arr2 = set(map(int, input().split()))\n",
    "print(len(arr1.intersection(arr2)))\n"
   ],
   "id": "6fe6e59b8ce6ee87"
  },
  {
   "metadata": {},
   "cell_type": "code",
   "outputs": [],
   "execution_count": null,
   "source": [
    "#Set .difference() Operation\n",
    "n = int(input())\n",
    "arr1 = set(map(int, input().split()))\n",
    "b = int(input())\n",
    "arr2 = set(map(int, input().split()))\n",
    "print(len(arr1.difference(arr2)))\n"
   ],
   "id": "8f0b14f6691e6a35"
  },
  {
   "metadata": {},
   "cell_type": "code",
   "outputs": [],
   "execution_count": null,
   "source": [
    "#Set .symmetric_difference() Operation\n",
    "n = int(input())\n",
    "arr1 = set(map(int, input().split()))\n",
    "b = int(input())\n",
    "arr2 = set(map(int, input().split()))\n",
    "print(len(arr1.symmetric_difference(arr2)))\n"
   ],
   "id": "de9af2fd679db7f4"
  },
  {
   "metadata": {},
   "cell_type": "code",
   "outputs": [],
   "execution_count": null,
   "source": [
    "#Set Mutations\n",
    "A = int(input())\n",
    "set1 = set(int(e) for e in input().split())\n",
    "N = int(input())\n",
    "for i in range(N):\n",
    "    a = input().split()\n",
    "    b = set(int(e) for e in input().split())\n",
    "    if a[0] == \"intersection_update\":\n",
    "        set1.intersection_update(b)\n",
    "    elif a[0] == \"symmetric_difference_update\":\n",
    "        set1.symmetric_difference_update(b)\n",
    "    elif a[0] == \"difference_update\":\n",
    "        set1.difference_update(b)\n",
    "    elif a[0] == \"update\":\n",
    "        set1.update(b)\n",
    "\n",
    "print(sum(set1))\n",
    "\n"
   ],
   "id": "8ce37d142a3f207a"
  },
  {
   "metadata": {},
   "cell_type": "code",
   "outputs": [],
   "execution_count": null,
   "source": [
    "#The Captain's Room\n",
    "k = int(input())\n",
    "s = list(map(int, input().split()))\n",
    "\n",
    "a = {}\n",
    "for i in range(len(s)):\n",
    "    if s[i] in a:\n",
    "        a[s[i]] += 1\n",
    "    else:\n",
    "        a[s[i]] = 1\n",
    "\n",
    "for el in a:\n",
    "    if a[el] != k:\n",
    "        print(el)\n",
    "        break\n",
    "\n"
   ],
   "id": "cfe1c3a0ecdfb98a"
  },
  {
   "metadata": {},
   "cell_type": "code",
   "outputs": [],
   "execution_count": null,
   "source": [
    "#Check Subset\n",
    "T = int(input())\n",
    "\n",
    "for i in range(T):\n",
    "    n1 = int(input())\n",
    "    A = set(map(int, input().split()))\n",
    "    n2 = int(input())\n",
    "    B = set(map(int, input().split()))\n",
    "\n",
    "    if A.issubset(B):\n",
    "        print(True)\n",
    "    else:\n",
    "        print(False)\n"
   ],
   "id": "3bf1a74cbd369111"
  },
  {
   "metadata": {},
   "cell_type": "code",
   "outputs": [],
   "execution_count": null,
   "source": [
    "#Check Strict Superset\n",
    "A = set(map(int, input().split()))\n",
    "N = int(input())\n",
    "count = N\n",
    "for i in range(N):\n",
    "    n_set = set(map(int, input().split()))\n",
    "    if A.issuperset(n_set):\n",
    "        count -= 1\n",
    "if count:\n",
    "    print(False)\n",
    "else:\n",
    "    print(True)\n",
    "    \n"
   ],
   "id": "bf9d4810e296a443"
  }
 ],
 "metadata": {
  "kernelspec": {
   "display_name": "Python 3",
   "language": "python",
   "name": "python3"
  },
  "language_info": {
   "codemirror_mode": {
    "name": "ipython",
    "version": 2
   },
   "file_extension": ".py",
   "mimetype": "text/x-python",
   "name": "python",
   "nbconvert_exporter": "python",
   "pygments_lexer": "ipython2",
   "version": "2.7.6"
  }
 },
 "nbformat": 4,
 "nbformat_minor": 5
}
